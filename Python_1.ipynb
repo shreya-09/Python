{
  "nbformat": 4,
  "nbformat_minor": 0,
  "metadata": {
    "colab": {
      "name": "Python.1.ipynb",
      "provenance": [],
      "authorship_tag": "ABX9TyPHj2nIpAaRz+OAdH3kLy9T",
      "include_colab_link": true
    },
    "kernelspec": {
      "name": "python3",
      "display_name": "Python 3"
    },
    "language_info": {
      "name": "python"
    }
  },
  "cells": [
    {
      "cell_type": "markdown",
      "metadata": {
        "id": "view-in-github",
        "colab_type": "text"
      },
      "source": [
        "<a href=\"https://colab.research.google.com/github/shreya-09/Python/blob/master/Python_1.ipynb\" target=\"_parent\"><img src=\"https://colab.research.google.com/assets/colab-badge.svg\" alt=\"Open In Colab\"/></a>"
      ]
    },
    {
      "cell_type": "markdown",
      "source": [
        "# Python Basics\n",
        "\n"
      ],
      "metadata": {
        "id": "K8o9fd2rE3zJ"
      }
    },
    {
      "cell_type": "code",
      "source": [
        "mystring = \"Don't worry about apostrophes\"\n",
        "print(mystring)\n",
        "mystring = \"Hello..Isn't this your bag \"\n",
        "print(mystring)\n",
        "#comment\n",
        "mystring = '\"Hello\"'\n",
        "print(mystring)"
      ],
      "metadata": {
        "colab": {
          "base_uri": "https://localhost:8080/"
        },
        "id": "XTOnxIVEFQCA",
        "outputId": "2fd2efcf-63b9-477e-b909-331efb5f1696"
      },
      "execution_count": 3,
      "outputs": [
        {
          "output_type": "stream",
          "name": "stdout",
          "text": [
            "Don't worry about apostrophes\n",
            "Hello..Isn't this your bag \n",
            "\"Hello\"\n"
          ]
        }
      ]
    },
    {
      "cell_type": "code",
      "source": [
        "\"\"\"\n",
        "Hello\n",
        "This is a comment\n",
        "Multiline\n",
        "\"\"\""
      ],
      "metadata": {
        "id": "LglRC__hIlsg",
        "colab": {
          "base_uri": "https://localhost:8080/",
          "height": 35
        },
        "outputId": "c917787d-c2d3-4b72-d0ea-7180f3720ad3"
      },
      "execution_count": 4,
      "outputs": [
        {
          "output_type": "execute_result",
          "data": {
            "application/vnd.google.colaboratory.intrinsic+json": {
              "type": "string"
            },
            "text/plain": [
              "'\\nHello\\nThis is a comment\\nMultiline\\n'"
            ]
          },
          "metadata": {},
          "execution_count": 4
        }
      ]
    },
    {
      "cell_type": "code",
      "source": [
        ""
      ],
      "metadata": {
        "id": "paFvelXj7l-Z"
      },
      "execution_count": null,
      "outputs": []
    }
  ]
}